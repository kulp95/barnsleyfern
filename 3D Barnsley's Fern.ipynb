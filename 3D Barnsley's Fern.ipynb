{
 "cells": [
  {
   "cell_type": "markdown",
   "metadata": {},
   "source": [
    "# Barnsley's Fern in 3D\n",
    "____\n",
    "### Jessica Kulp $\\cdot$ ``kulp.95@osu.edu`` $\\cdot$ SP21"
   ]
  },
  {
   "cell_type": "markdown",
   "metadata": {},
   "source": [
    "*Revision history:* <br>\n",
    "04/06/21 --- Used Fern3D.py from Laudau/Paez. Replaced visual module with vpython module and removed show_rendertime() func. call. <br>\n",
    "04/21/21 --- Changed the initial coords, separated into blocks of code with comments/explanation in between. <br>\n",
    "04/23/21 --- Added some discussion and minor changes.<br>\n",
    "04/28/21 --- Minor changes to formatting, comments, discussion, etc. **Final version.**"
   ]
  },
  {
   "cell_type": "markdown",
   "metadata": {},
   "source": [
    "**Barnsley's Fern** is a fractal resembling a fern plant. An important feature of this fractal is that is is not entirely self similar. Its points are chosen using affine transformations, but there is a random selection of which transformation will occur for each point. This element of random chance is what makes the fern not perfectly self similar. "
   ]
  },
  {
   "cell_type": "markdown",
   "metadata": {},
   "source": [
    "Although the original Barnsley's Fern is only a two dimensional plot, in this notebook, we will produce a 3D variation of the Barnsley's Fern. The code in this notebook is based on **Fern3D.py** (Listing 13.1) from section 13.3.2 from Landau and Paez (with few changes) which uses affine transformations and associated probabilities specific to this 3D variation of the fern. "
   ]
  },
  {
   "cell_type": "markdown",
   "metadata": {},
   "source": [
    "First, we import the modules we need. **vpython** is needed to plot the points and **random** is needed to select our random number, $0 \\leq r \\leq 1$. The final display will appear below this code block."
   ]
  },
  {
   "cell_type": "code",
   "execution_count": 1,
   "metadata": {},
   "outputs": [
    {
     "data": {
      "text/html": [
       "<div id=\"glowscript\" class=\"glowscript\"></div>"
      ],
      "text/plain": [
       "<IPython.core.display.HTML object>"
      ]
     },
     "metadata": {},
     "output_type": "display_data"
    },
    {
     "data": {
      "application/javascript": [
       "if (typeof Jupyter !== \"undefined\") { window.__context = { glowscript_container: $(\"#glowscript\").removeAttr(\"id\")};}else{ element.textContent = ' ';}"
      ],
      "text/plain": [
       "<IPython.core.display.Javascript object>"
      ]
     },
     "metadata": {},
     "output_type": "display_data"
    }
   ],
   "source": [
    "from vpython import *\n",
    "import random"
   ]
  },
  {
   "cell_type": "markdown",
   "metadata": {},
   "source": [
    "Next we define the number of points to generate and the initial coordinates. We will also set up the **display** where the points will be displayed and the **points** object which will hold the points generated. You may want to adjust the radius of the points (each one is drawn as a sphere); You can see the overall shape of the fern better with slightly larger points, but smaller points are better for seeing the differences between each frond."
   ]
  },
  {
   "cell_type": "code",
   "execution_count": 2,
   "metadata": {},
   "outputs": [
    {
     "data": {
      "application/javascript": [
       "if (typeof Jupyter !== \"undefined\") {require.undef(\"nbextensions/vpython_libraries/glow.min\");}else{element.textContent = ' ';}"
      ],
      "text/plain": [
       "<IPython.core.display.Javascript object>"
      ]
     },
     "metadata": {},
     "output_type": "display_data"
    },
    {
     "data": {
      "application/javascript": [
       "if (typeof Jupyter !== \"undefined\") {require.undef(\"nbextensions/vpython_libraries/glowcomm\");}else{element.textContent = ' ';}"
      ],
      "text/plain": [
       "<IPython.core.display.Javascript object>"
      ]
     },
     "metadata": {},
     "output_type": "display_data"
    },
    {
     "data": {
      "application/javascript": [
       "if (typeof Jupyter !== \"undefined\") {require.undef(\"nbextensions/vpython_libraries/jquery-ui.custom.min\");}else{element.textContent = ' ';}"
      ],
      "text/plain": [
       "<IPython.core.display.Javascript object>"
      ]
     },
     "metadata": {},
     "output_type": "display_data"
    },
    {
     "data": {
      "application/javascript": [
       "if (typeof Jupyter !== \"undefined\") {require([\"nbextensions/vpython_libraries/glow.min\"], function(){console.log(\"GLOW LOADED\");});}else{element.textContent = ' ';}"
      ],
      "text/plain": [
       "<IPython.core.display.Javascript object>"
      ]
     },
     "metadata": {},
     "output_type": "display_data"
    },
    {
     "data": {
      "application/javascript": [
       "if (typeof Jupyter !== \"undefined\") {require([\"nbextensions/vpython_libraries/glowcomm\"], function(){console.log(\"GLOWCOMM LOADED\");});}else{element.textContent = ' ';}"
      ],
      "text/plain": [
       "<IPython.core.display.Javascript object>"
      ]
     },
     "metadata": {},
     "output_type": "display_data"
    },
    {
     "data": {
      "application/javascript": [
       "if (typeof Jupyter !== \"undefined\") {require([\"nbextensions/vpython_libraries/jquery-ui.custom.min\"], function(){console.log(\"JQUERY LOADED\");});}else{element.textContent = ' ';}"
      ],
      "text/plain": [
       "<IPython.core.display.Javascript object>"
      ]
     },
     "metadata": {},
     "output_type": "display_data"
    }
   ],
   "source": [
    "num_pts = 20000          # number of points to generate\n",
    "x = 0.0               # coordinates of first point\n",
    "y = 0.0\n",
    "z = 0.0\n",
    "\n",
    "# set up display \n",
    "plot = display(width=500, height=500, forward=(-3,0,-1), \\\n",
    "                 title='Barnsleys Fern', range=10)\n",
    "# set up points\n",
    "pts = points(radius=1.5, color=color.green)"
   ]
  },
  {
   "cell_type": "markdown",
   "metadata": {},
   "source": [
    "Next we will create a loop to generate the points. In each iteration, we first we generate a \"random\" floating point number in the range $[0.0, 1.0)$ using the **random()** function. This random number, $r$, is what will determine which transformation to generate the next point. <br><br>\n",
    "\n",
    "There are four possible affine transformations which can be used to generate the next point from the previous point, each with a different probability. The first has a 10% probability ($0.0 \\leq r \\leq 0.1$), the second has a 60% probability ($0.1 < r \\leq 0.7$), the third has a 15% probability ($0.7 < r \\leq 0.85$), and the fourth also has a 15% probability ($0.85 < r < 1.0$). In each of these branches, **xn** represents the x coordinate for the new point, $x_n$, and **x** represents the x coordinate for the previous point, $x_{n-1}$ (similarly for the y and z coordinates). <br> <br>\n",
    "\n",
    "This new point is then assigned to **x**, **y**, and **z** and a final transformation is done to get the point to be plotted (a scaling for the x coord and a scaling and translation for y), **(xc, yc, zc)**. This point is then appended to the **points** object to be displayed. "
   ]
  },
  {
   "cell_type": "code",
   "execution_count": 3,
   "metadata": {},
   "outputs": [],
   "source": [
    "for i in range (0, num_pts):                # loop over number of points to be generated\n",
    "    r = random.random();                 # generate a random number between 0 and 1\n",
    "    if (r <= 0.1):                       # transformation with 10% probability \n",
    "        xn = 0.0\n",
    "        yn = 0.18 * y\n",
    "        zn = 0.0\n",
    "    elif (r > 0.1 and r <= 0.7):         # transformation with 60% probability\n",
    "        xn = 0.85 * x\n",
    "        yn = 0.85 * y + 0.1 * z + 1.6\n",
    "        zn = -0.1 * y + 0.85 * z\n",
    "    elif (r > 0.7 and r <= 0.85):        # transformation with 15% probability\n",
    "        xn = 0.2 * x - 0.2 * y\n",
    "        yn = 0.2 * x + 0.2 * y + 0.8\n",
    "        zn = 0.3 * z\n",
    "    else:                                # transformation with 15% probability \n",
    "        xn = -0.2 * x + 0.2 * y\n",
    "        yn = 0.2 * x + 0.2 * y + 0.8\n",
    "        zn = 0.3 * z\n",
    "    x = xn\n",
    "    y = yn\n",
    "    z = zn\n",
    "    xc = 4.*x                            # final linear transformation \n",
    "    yc = 2.*y-7\n",
    "    zc = z\n",
    "    pts.append(pos=(xc,yc,zc))           # append new point to pts"
   ]
  },
  {
   "cell_type": "markdown",
   "metadata": {},
   "source": [
    "The fern should be displayed below the first code block. You can zoom in and out (using mousepad pinch/stretch or two-finger scroll) and rotate the image (clicking and dragging). Zooming in on the fronds, you can see that each is different due to the random selection of transformation, but that the fern as a whole appears self-similar (but not identical). \n"
   ]
  },
  {
   "cell_type": "code",
   "execution_count": null,
   "metadata": {},
   "outputs": [],
   "source": []
  }
 ],
 "metadata": {
  "kernelspec": {
   "display_name": "Python 3",
   "language": "python",
   "name": "python3"
  },
  "language_info": {
   "codemirror_mode": {
    "name": "ipython",
    "version": 3
   },
   "file_extension": ".py",
   "mimetype": "text/x-python",
   "name": "python",
   "nbconvert_exporter": "python",
   "pygments_lexer": "ipython3",
   "version": "3.8.5"
  }
 },
 "nbformat": 4,
 "nbformat_minor": 4
}
