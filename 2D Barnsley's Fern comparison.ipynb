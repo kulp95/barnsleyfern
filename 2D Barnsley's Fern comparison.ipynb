{
 "cells": [
  {
   "cell_type": "markdown",
   "metadata": {},
   "source": [
    "# Barnsley's Fern in 2D\n",
    "____\n",
    "### Physics 6810 Final Project $\\cdot$ Jessica Kulp $\\cdot$ ``kulp.95@osu.edu`` $\\cdot$ SP21"
   ]
  },
  {
   "cell_type": "markdown",
   "metadata": {},
   "source": [
    "*Revision history:* <br>\n",
    "04/25/21 --- Adapted code from 3D Barnsley's Fern notebook for 2D, added published 2D fern code as reference.  <br>\n",
    "04/26/21 --- Minor changes to reference code (color, speed, storing values of points, etc. All changes are marked with \"#####\" comments). <br>\n",
    "04/27/21 --- Added discussion sections and comparison/verification of code.<br>\n",
    "04/28/21 --- Minor changes to formatting, comments, discussion, etc. **Final version.** \n",
    "___"
   ]
  },
  {
   "cell_type": "markdown",
   "metadata": {},
   "source": [
    "**In this notebook we look at two versions of code for a 2D Barnsley's Fern. The first is adapted from the 3D Barnsley's Fern code, and the second is a reference code used to verify that the first is working as intended.** <br><br>\n",
    "\n",
    "Both of these versions use the same set of affine transformations and associated probabilities. These are the original transformations given by Michael Barnsley in his 1988 book *Fractals Everywhere*. <br><br>\n",
    "\n",
    "$ f_1(x, y) = \\begin{bmatrix} 0.00 && 0.00 \\\\ 0.00 && 0.16 \\end{bmatrix} \\begin{bmatrix} x \\\\ y \\end{bmatrix}$ <br>\n",
    "\n",
    "$ f_2(x, y) = \\begin{bmatrix} 0.85 && 0.04 \\\\ -0.04 && 0.85 \\end{bmatrix} \\begin{bmatrix} x \\\\ y \\end{bmatrix}  + \\begin{bmatrix} 0.00 \\\\ 1.60 \\end{bmatrix} $<br>\n",
    "\n",
    "$ f_3(x, y) = \\begin{bmatrix} 0.20 && -0.26 \\\\ 0.23 && 0.22 \\end{bmatrix} \\begin{bmatrix} x \\\\ y \\end{bmatrix}  + \\begin{bmatrix} 0.00 \\\\ 1.60 \\end{bmatrix} $ <br>\n",
    "\n",
    "$ f_2(x, y) = \\begin{bmatrix} -0.15 && 0.28 \\\\ 0.26 && 0.24 \\end{bmatrix} \\begin{bmatrix} x \\\\ y \\end{bmatrix}  + \\begin{bmatrix} 0.00 \\\\ 0.44 \\end{bmatrix} $<br> <br>\n",
    "\n",
    "Where $f_1$ has a 1% probability, $f_2$ has an 85% probability, and $f_3$ and $f_4$ have 7% probability. <br><br>\n",
    "\n",
    "In comparing these two versions of the 2D fern, we will want to generate different numbers of points. First we can start with a relatively large number, like **num_pts = 10000** or more, just to see the code work and to see the ferns in better detail in the displays. As a warning, the reference code (part **2.**) takes quite a while to draw the fern, even at maximum speed (about 5 minutes for 2000 points for me). I would recommend starting with something like **num_pts = 2000** when you are running the actual comparison/verification (when you need to generate and store all of the points and not interrupt it). \n",
    "____"
   ]
  },
  {
   "cell_type": "markdown",
   "metadata": {},
   "source": [
    "### 1. 2D fern adapted from 3D fern \n",
    "This version of the 2D Barnsley's Fern works similar to the 3D Barnsley's Fern. First we import the necessary modules. The fern will display below this code block when done."
   ]
  },
  {
   "cell_type": "code",
   "execution_count": 1,
   "metadata": {},
   "outputs": [
    {
     "data": {
      "text/html": [
       "<div id=\"glowscript\" class=\"glowscript\"></div>"
      ],
      "text/plain": [
       "<IPython.core.display.HTML object>"
      ]
     },
     "metadata": {},
     "output_type": "display_data"
    },
    {
     "data": {
      "application/javascript": [
       "if (typeof Jupyter !== \"undefined\") { window.__context = { glowscript_container: $(\"#glowscript\").removeAttr(\"id\")};}else{ element.textContent = ' ';}"
      ],
      "text/plain": [
       "<IPython.core.display.Javascript object>"
      ]
     },
     "metadata": {},
     "output_type": "display_data"
    }
   ],
   "source": [
    "from vpython import *\n",
    "import random"
   ]
  },
  {
   "cell_type": "markdown",
   "metadata": {},
   "source": [
    "Next, we set up the number of points to generate, initial coordinates (only x and y this time), the display, and the points object. We will also initialize some lists to store the x and y values of each point in. "
   ]
  },
  {
   "cell_type": "code",
   "execution_count": 2,
   "metadata": {},
   "outputs": [
    {
     "data": {
      "application/javascript": [
       "if (typeof Jupyter !== \"undefined\") {require.undef(\"nbextensions/vpython_libraries/glow.min\");}else{element.textContent = ' ';}"
      ],
      "text/plain": [
       "<IPython.core.display.Javascript object>"
      ]
     },
     "metadata": {},
     "output_type": "display_data"
    },
    {
     "data": {
      "application/javascript": [
       "if (typeof Jupyter !== \"undefined\") {require.undef(\"nbextensions/vpython_libraries/glowcomm\");}else{element.textContent = ' ';}"
      ],
      "text/plain": [
       "<IPython.core.display.Javascript object>"
      ]
     },
     "metadata": {},
     "output_type": "display_data"
    },
    {
     "data": {
      "application/javascript": [
       "if (typeof Jupyter !== \"undefined\") {require.undef(\"nbextensions/vpython_libraries/jquery-ui.custom.min\");}else{element.textContent = ' ';}"
      ],
      "text/plain": [
       "<IPython.core.display.Javascript object>"
      ]
     },
     "metadata": {},
     "output_type": "display_data"
    },
    {
     "data": {
      "application/javascript": [
       "if (typeof Jupyter !== \"undefined\") {require([\"nbextensions/vpython_libraries/glow.min\"], function(){console.log(\"GLOW LOADED\");});}else{element.textContent = ' ';}"
      ],
      "text/plain": [
       "<IPython.core.display.Javascript object>"
      ]
     },
     "metadata": {},
     "output_type": "display_data"
    },
    {
     "data": {
      "application/javascript": [
       "if (typeof Jupyter !== \"undefined\") {require([\"nbextensions/vpython_libraries/glowcomm\"], function(){console.log(\"GLOWCOMM LOADED\");});}else{element.textContent = ' ';}"
      ],
      "text/plain": [
       "<IPython.core.display.Javascript object>"
      ]
     },
     "metadata": {},
     "output_type": "display_data"
    },
    {
     "data": {
      "application/javascript": [
       "if (typeof Jupyter !== \"undefined\") {require([\"nbextensions/vpython_libraries/jquery-ui.custom.min\"], function(){console.log(\"JQUERY LOADED\");});}else{element.textContent = ' ';}"
      ],
      "text/plain": [
       "<IPython.core.display.Javascript object>"
      ]
     },
     "metadata": {},
     "output_type": "display_data"
    }
   ],
   "source": [
    "num_pts = 5000          # number of points to generate\n",
    "x = 0.0                 # initial coordinates \n",
    "y = 0.0\n",
    "\n",
    "# set up display \n",
    "plot = display(width=500, height=500, \\\n",
    "                 title='2D Barnsleys Fern', range=10)\n",
    "# set up points\n",
    "pts = points(radius=1.5, color=color.green)\n",
    "\n",
    "# lists to store x and y values of each point\n",
    "x_pts1 = []\n",
    "y_pts1 = []"
   ]
  },
  {
   "cell_type": "markdown",
   "metadata": {},
   "source": [
    "We then use a for loop like the one used for the 3D Barnsley's Fern. Of course, this example will only have transformations of the x and y coordinates. The affine transformations and their associated probabilities are changed to those listed above. The final linear transformation is changed to position the fern in the display properly. We will also store the x and y values of the points in lists."
   ]
  },
  {
   "cell_type": "code",
   "execution_count": 3,
   "metadata": {},
   "outputs": [],
   "source": [
    "for i in range (0, num_pts):               # loop over number of points \n",
    "    r = random.random();                   # generate a random number between 0 and 1\n",
    "    if (r < 0.01):                         # transformation with 1% probability \n",
    "        xn = 0.\n",
    "        yn = 0.16*y\n",
    "    elif (r >= 0.01 and r < 0.86):         # transformation with 85% probability\n",
    "        xn = 0.85*x + 0.04*y\n",
    "        yn = 0.04*x + 0.85*y + 1.6\n",
    "    elif (r >= 0.86 and r < 0.93):         # transformation with 7% probability\n",
    "        xn = 0.2*x - 0.26*y\n",
    "        yn = 0.23*x + 0.22*y + 1.6\n",
    "    else:                                  # transformation with 7% probability \n",
    "        xn = -0.15*x + 0.28*y\n",
    "        yn = 0.26*x + 0.24*y + 0.44\n",
    "    x = xn\n",
    "    y = yn\n",
    "    x_pts1.append(x)                       # append x and y values to corresponding lists\n",
    "    y_pts1.append(y)  \n",
    "    xc = 3.*x - 3.2                        # final linear transformation \n",
    "    yc = 1.5*y - 8.\n",
    "    pts.append(pos=(xc,yc,0.))             # append new point to pts"
   ]
  },
  {
   "cell_type": "markdown",
   "metadata": {},
   "source": [
    "Now we see the 2D Barnsley's Fern displayed above. Again, you can zoom in on this display to see more details. You can also rotate it if you want, but there is nothing to see because it is 2D (maybe you can rotate it to visually confirm that it is 2D). As expected, the fern is self-similar, but its stems, fronds, and leaves are not identical. At this point, we can just visually confirm that the code is working properly (to some degree), in the sense that it is producing points which create an object with self-similarity and some variation due to random chance. "
   ]
  },
  {
   "cell_type": "markdown",
   "metadata": {},
   "source": [
    "### 2. Reference 2D fern\n",
    "\n",
    "For a more concrete verification that the code is working as intended, we can compare this to a published 2D Barnsley's Fern python code. This code is listed on the Barnsley's Fern Wikipedia page, along with others in different languages. It uses the **turtle** module to draw the fern point by point. The few changes I have made are inconsequential to the comparison of the two versions (color of the pen, speed of the drawing, storing the coordinates in lists), but I have marked all the changes I made with comments beginning with **###** just to be clear. All other comments were made by the original programmer(s). <br>\n"
   ]
  },
  {
   "cell_type": "code",
   "execution_count": 4,
   "metadata": {},
   "outputs": [
    {
     "name": "stdout",
     "output_type": "stream",
     "text": [
      "1148.1158702373505\n"
     ]
    }
   ],
   "source": [
    "import turtle\n",
    "import random\n",
    "import time                         ### added to measure the approx time it takes to run the loop\n",
    "\n",
    "pen = turtle.Turtle()\n",
    "pen.speed(0)                        ### changed speed from 10 to 0 (0 is the fastest possible)\n",
    "pen.color(\"green\")                  ### changed the color to green, just because it's supposed to look like a fern!\n",
    "pen.penup()\n",
    "\n",
    "x_pts2 = []                         ### lists to store x and y values of each point\n",
    "y_pts2 = []\n",
    "\n",
    "start = time.time()                 ### get start time\n",
    "\n",
    "x = 0\n",
    "y = 0\n",
    "for n in range(num_pts):            ### changed range to num_pts (defined in 1st version). originally set to 110000\n",
    "    pen.goto(65 * x, 37 * y - 252)  # 57 is to scale the fern and -275 is to start the drawing from the bottom.\n",
    "    pen.pendown()\n",
    "    pen.dot()\n",
    "    pen.penup()\n",
    "    r = random.random()  # to get probability\n",
    "    r = r * 100\n",
    "    xn = x\n",
    "    yn = y\n",
    "    if r < 1:  # elif ladder based on the probability\n",
    "        x = 0\n",
    "        y = 0.16 * yn\n",
    "    elif r < 86:\n",
    "        x = 0.85 * xn + 0.04 * yn\n",
    "        y = -0.04 * xn + 0.85 * yn + 1.6\n",
    "    elif r < 93:\n",
    "        x = 0.20 * xn - 0.26 * yn\n",
    "        y = 0.23 * xn + 0.22 * yn + 1.6\n",
    "    else:\n",
    "        x = -0.15 * xn + 0.28 * yn\n",
    "        y = 0.26 * xn + 0.24 * yn + 0.44\n",
    "    x_pts2.append(x)                ### append the x and y points to corresponding lists\n",
    "    y_pts2.append(y)    \n",
    "    \n",
    "end = time.time()                   ### get end time\n",
    "print(\"time elapsed:\", end - start, \"seconds\")                  ### print out end time"
   ]
  },
  {
   "cell_type": "markdown",
   "metadata": {},
   "source": [
    "### Comparison of 2D ferns\n",
    "Visually, the two ferns look similar in their overall shape as well as the structure of their stems, leaflets, and fronds. They are both self-similar, and are similar to one another, but of course are not identical (not perfectly self-similar, and also not identical to one another) because of the use of a random number generator. <br><br>\n",
    "To compare these two versions numerically, we can look at the differences between x and y values between the two ferns. Because they are randomly generated, corresponding points are not at the same indices in their respective lists. To get the lists in a comparable order, we will use the **.sort()** function which sorts the values in a list from lowest to highest. "
   ]
  },
  {
   "cell_type": "code",
   "execution_count": 5,
   "metadata": {},
   "outputs": [],
   "source": [
    "x_pts1.sort()   # sort each list\n",
    "y_pts1.sort()\n",
    "x_pts2.sort()\n",
    "y_pts2.sort()"
   ]
  },
  {
   "cell_type": "markdown",
   "metadata": {},
   "source": [
    "Now we can calculate the differences between x values at the same index and y values at the same index (between the two ferns). Then we will look at the average difference for x points and average difference for y points."
   ]
  },
  {
   "cell_type": "code",
   "execution_count": 6,
   "metadata": {},
   "outputs": [
    {
     "name": "stdout",
     "output_type": "stream",
     "text": [
      "average difference of x values: 0.05117\n",
      "average difference of y values: 0.22499\n"
     ]
    }
   ],
   "source": [
    "# diffs for x points\n",
    "diff_x = [abs(x_pts1[i] - x_pts2[i]) for i in range(num_pts)]\n",
    "# calculate average difference for x points\n",
    "sum_diff_x = 0.\n",
    "for i in range(num_pts):\n",
    "    sum_diff_x += diff_x[i]\n",
    "avg_diff_x = sum_diff_x / num_pts\n",
    "    \n",
    "# diffs for y points\n",
    "diff_y = [abs(y_pts1[i] - y_pts2[i]) for i in range(num_pts)]\n",
    "# calculate average difference for y points\n",
    "sum_diff_y = 0.\n",
    "for i in range(num_pts):\n",
    "    sum_diff_y += diff_y[i]\n",
    "avg_diff_y = sum_diff_y / num_pts\n",
    "    \n",
    "# print out results\n",
    "print(\"average difference of x values:\", round(avg_diff_x, 5))\n",
    "print(\"average difference of y values:\", round(avg_diff_y, 5))\n"
   ]
  },
  {
   "cell_type": "markdown",
   "metadata": {},
   "source": [
    "This doesn't really tell us much. They seem like small differences, but are they actually small relative to the size of the points themselves? We can now compare these average differences to the average magnitudes of the x and y values themselves to get a sense of how significant this difference is. "
   ]
  },
  {
   "cell_type": "code",
   "execution_count": 10,
   "metadata": {},
   "outputs": [
    {
     "name": "stdout",
     "output_type": "stream",
     "text": [
      "average magnitude of x values: 1.2655982249663926\n",
      "average magnitude of y values: 6.231481371523341\n",
      "\n",
      "The average difference for x vals is 4.04 % the size of an average x val.\n",
      "The average difference for y vals is 3.61 % the size of an average y val.\n"
     ]
    }
   ],
   "source": [
    "# calculate average magnitude of x values\n",
    "sum_x = 0.\n",
    "for i in range(num_pts):\n",
    "    sum_x += abs(x_pts1[i] + x_pts2[i])\n",
    "avg_x = sum_x / (2*num_pts)\n",
    "\n",
    "# calculate average magnitude of y values\n",
    "sum_y = 0.\n",
    "for i in range(num_pts):\n",
    "    sum_y += abs(y_pts1[i] + y_pts2[i])\n",
    "avg_y = sum_y / (2*num_pts)\n",
    "\n",
    "# print results\n",
    "print(\"average magnitude of x values:\", avg_x)\n",
    "print(\"average magnitude of y values:\", avg_y)\n",
    "\n",
    "# print comparison\n",
    "print(\"\\nThe average difference for x vals is\", round(100. * avg_diff_x / avg_x, 2), \"% the size of an average x val.\")\n",
    "print(\"The average difference for y vals is\", round(100. * avg_diff_y / avg_y, 2), \"% the size of an average y val.\")"
   ]
  },
  {
   "cell_type": "markdown",
   "metadata": {},
   "source": [
    "This is certainly not the most sophisticated method of verification, but it gives a rough idea that the first version is working as intended. While the two versions should produce similar results, we expect there to be small differences due to the use of a random number generator. An average difference on the scale of ~5% is reasonable for num_pts = 2000. <br><br>\n",
    "Considering that the coefficients of the transformations are hard-coded into each version (and are identical) and the plotting is pretty simple, we are fairly certain that they should produce similar results (there is likely nothing wrong with the for loop that generates the points so long as these transformations and probabilities are typed correctly). Thus, I believe this is a fair verification that the first 2D fern is working properly. That is, it is producing points using the same transformations and probabilities as the reference code. <br><br>\n",
    "You can also run through this notebook again using a different number of points and observe how the average differences change. You should see that, naturally, for a higher number of points the average differences are smaller. This means the difference due to \"random\" chance is behaving as we would expect. "
   ]
  },
  {
   "cell_type": "code",
   "execution_count": null,
   "metadata": {},
   "outputs": [],
   "source": []
  }
 ],
 "metadata": {
  "kernelspec": {
   "display_name": "Python 3",
   "language": "python",
   "name": "python3"
  },
  "language_info": {
   "codemirror_mode": {
    "name": "ipython",
    "version": 3
   },
   "file_extension": ".py",
   "mimetype": "text/x-python",
   "name": "python",
   "nbconvert_exporter": "python",
   "pygments_lexer": "ipython3",
   "version": "3.8.5"
  }
 },
 "nbformat": 4,
 "nbformat_minor": 4
}
